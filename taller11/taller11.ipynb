{
 "cells": [
  {
   "cell_type": "markdown",
   "metadata": {},
   "source": [
    "<img src='https://encrypted-tbn0.gstatic.com/images?q=tbn%3AANd9GcQ-VfNtOyJbsaxu43Kztf_cv1mgBG6ZIQZEVw&usqp=CAU'>\n",
    "\n",
    "# Procesamiento de Lenguage Natural\n",
    "\n",
    "## Taller #11: Twitter\n",
    "`Fecha de entrega: Mayo 20, 2021 (Antes del inicio de la próxima clase).`\n",
    "\n",
    "`Modo de entrega: Subir link de GitHub al aula virtual.`"
   ]
  },
  {
   "cell_type": "markdown",
   "metadata": {},
   "source": [
    "###  `[25 pts]` Punto 1: Extraer Tuits\n",
    "Extraer mínimo 100 tuits de Twitter usando la API\n",
    "\n",
    "❌ No escoger un tema de los que hicimos en clase (día de las madres, Giro de Italia, #EraGoldeYepes)"
   ]
  },
  {
   "cell_type": "code",
   "execution_count": 112,
   "metadata": {},
   "outputs": [],
   "source": [
    "import pandas as pd\n",
    "import tweepy\n",
    "import re\n",
    "import regex\n",
    "import emoji"
   ]
  },
  {
   "cell_type": "code",
   "execution_count": 113,
   "metadata": {},
   "outputs": [],
   "source": [
    "keys = pd.read_csv(\"../Clases/mis_llaves.csv\", header=None)\n",
    "keys = dict(zip(keys[0],keys[1]))\n",
    "auth = tweepy.OAuthHandler(keys['api_key'], keys['api_secret_key'])\n",
    "auth.set_access_token(keys['access_token'], keys['access_token_secret'])\n",
    "api = tweepy.API(auth, wait_on_rate_limit=True)"
   ]
  },
  {
   "cell_type": "code",
   "execution_count": 114,
   "metadata": {},
   "outputs": [],
   "source": [
    "tweets = tweepy.Cursor(api.search,\n",
    "                       q=['#Cúcuta -RT'],\n",
    "                       lang='es',\n",
    "                       tweet_mode='extended',\n",
    "                       include_rts=False,\n",
    "                       ).items(100)"
   ]
  },
  {
   "cell_type": "code",
   "execution_count": 115,
   "metadata": {},
   "outputs": [],
   "source": [
    "t = [tweet for tweet in tweets]"
   ]
  },
  {
   "cell_type": "code",
   "execution_count": 116,
   "metadata": {},
   "outputs": [
    {
     "data": {
      "text/html": [
       "<div>\n",
       "<style scoped>\n",
       "    .dataframe tbody tr th:only-of-type {\n",
       "        vertical-align: middle;\n",
       "    }\n",
       "\n",
       "    .dataframe tbody tr th {\n",
       "        vertical-align: top;\n",
       "    }\n",
       "\n",
       "    .dataframe thead th {\n",
       "        text-align: right;\n",
       "    }\n",
       "</style>\n",
       "<table border=\"1\" class=\"dataframe\">\n",
       "  <thead>\n",
       "    <tr style=\"text-align: right;\">\n",
       "      <th></th>\n",
       "      <th>tweets</th>\n",
       "      <th>date</th>\n",
       "      <th>city</th>\n",
       "      <th>user_location</th>\n",
       "      <th>id</th>\n",
       "      <th>link</th>\n",
       "    </tr>\n",
       "  </thead>\n",
       "  <tbody>\n",
       "    <tr>\n",
       "      <th>0</th>\n",
       "      <td>Durante las actividades de verificación adelan...</td>\n",
       "      <td>2021-05-14 02:20:27</td>\n",
       "      <td>Cúcuta</td>\n",
       "      <td>Colombia</td>\n",
       "      <td>1393028405118001154</td>\n",
       "      <td>https://twitter.com/i/web/stuatus/139302840511...</td>\n",
       "    </tr>\n",
       "    <tr>\n",
       "      <th>1</th>\n",
       "      <td>#Málagavive #loúltimo | \\n\\nIglesias de Málaga...</td>\n",
       "      <td>2021-05-14 02:14:47</td>\n",
       "      <td>Cúcuta</td>\n",
       "      <td>Malaga santander</td>\n",
       "      <td>1393026978932998147</td>\n",
       "      <td>https://twitter.com/i/web/stuatus/139302697893...</td>\n",
       "    </tr>\n",
       "    <tr>\n",
       "      <th>2</th>\n",
       "      <td>🏡 Bosque de la variante\\n🏡En el mes de las mad...</td>\n",
       "      <td>2021-05-14 01:57:00</td>\n",
       "      <td>Cúcuta</td>\n",
       "      <td>Cúcuta, Norte de Santander</td>\n",
       "      <td>1393022501974941696</td>\n",
       "      <td>https://twitter.com/i/web/stuatus/139302250197...</td>\n",
       "    </tr>\n",
       "    <tr>\n",
       "      <th>3</th>\n",
       "      <td>#LasTresDelOriente ✅| Conozca las tres noticia...</td>\n",
       "      <td>2021-05-14 01:39:56</td>\n",
       "      <td>Cúcuta</td>\n",
       "      <td>Bucaramanga - Cúcuta</td>\n",
       "      <td>1393018208244879363</td>\n",
       "      <td>https://twitter.com/i/web/stuatus/139301820824...</td>\n",
       "    </tr>\n",
       "    <tr>\n",
       "      <th>4</th>\n",
       "      <td>Mañana se estrenará la obra \"El #bicentenario ...</td>\n",
       "      <td>2021-05-14 01:28:05</td>\n",
       "      <td>Cúcuta</td>\n",
       "      <td>Cúcuta, Colombia</td>\n",
       "      <td>1393015227822874625</td>\n",
       "      <td>https://twitter.com/i/web/stuatus/139301522782...</td>\n",
       "    </tr>\n",
       "    <tr>\n",
       "      <th>...</th>\n",
       "      <td>...</td>\n",
       "      <td>...</td>\n",
       "      <td>...</td>\n",
       "      <td>...</td>\n",
       "      <td>...</td>\n",
       "      <td>...</td>\n",
       "    </tr>\n",
       "    <tr>\n",
       "      <th>95</th>\n",
       "      <td>#EsNoticiaTRO🚨l Trabajo articulado entre alcal...</td>\n",
       "      <td>2021-05-13 14:13:30</td>\n",
       "      <td>Cúcuta</td>\n",
       "      <td>Bucaramanga - Cúcuta</td>\n",
       "      <td>1392845459899699202</td>\n",
       "      <td>https://twitter.com/i/web/stuatus/139284545989...</td>\n",
       "    </tr>\n",
       "    <tr>\n",
       "      <th>96</th>\n",
       "      <td>#FelizJueves ¿Cuáles son los tipos de tapaboca...</td>\n",
       "      <td>2021-05-13 14:11:19</td>\n",
       "      <td>Cúcuta</td>\n",
       "      <td>En 5 departamentos de Colombia</td>\n",
       "      <td>1392844911511212034</td>\n",
       "      <td>https://twitter.com/i/web/stuatus/139284491151...</td>\n",
       "    </tr>\n",
       "    <tr>\n",
       "      <th>97</th>\n",
       "      <td>🏡 Bosque de la variante\\n🏡En el mes de las mad...</td>\n",
       "      <td>2021-05-13 13:56:20</td>\n",
       "      <td>Cúcuta</td>\n",
       "      <td>Cúcuta, Norte de Santander</td>\n",
       "      <td>1392841143038132229</td>\n",
       "      <td>https://twitter.com/i/web/stuatus/139284114303...</td>\n",
       "    </tr>\n",
       "    <tr>\n",
       "      <th>98</th>\n",
       "      <td>Buen Día Amigos, Busco Empleo en la Ciudad de ...</td>\n",
       "      <td>2021-05-13 13:42:07</td>\n",
       "      <td>Cúcuta</td>\n",
       "      <td></td>\n",
       "      <td>1392837564684546048</td>\n",
       "      <td>https://twitter.com/i/web/stuatus/139283756468...</td>\n",
       "    </tr>\n",
       "    <tr>\n",
       "      <th>99</th>\n",
       "      <td>@MedimasEPS no funciona plataforma para citas ...</td>\n",
       "      <td>2021-05-13 13:19:26</td>\n",
       "      <td>Cúcuta</td>\n",
       "      <td></td>\n",
       "      <td>1392831856974913543</td>\n",
       "      <td>https://twitter.com/i/web/stuatus/139283185697...</td>\n",
       "    </tr>\n",
       "  </tbody>\n",
       "</table>\n",
       "<p>100 rows × 6 columns</p>\n",
       "</div>"
      ],
      "text/plain": [
       "                                               tweets                date  \\\n",
       "0   Durante las actividades de verificación adelan... 2021-05-14 02:20:27   \n",
       "1   #Málagavive #loúltimo | \\n\\nIglesias de Málaga... 2021-05-14 02:14:47   \n",
       "2   🏡 Bosque de la variante\\n🏡En el mes de las mad... 2021-05-14 01:57:00   \n",
       "3   #LasTresDelOriente ✅| Conozca las tres noticia... 2021-05-14 01:39:56   \n",
       "4   Mañana se estrenará la obra \"El #bicentenario ... 2021-05-14 01:28:05   \n",
       "..                                                ...                 ...   \n",
       "95  #EsNoticiaTRO🚨l Trabajo articulado entre alcal... 2021-05-13 14:13:30   \n",
       "96  #FelizJueves ¿Cuáles son los tipos de tapaboca... 2021-05-13 14:11:19   \n",
       "97  🏡 Bosque de la variante\\n🏡En el mes de las mad... 2021-05-13 13:56:20   \n",
       "98  Buen Día Amigos, Busco Empleo en la Ciudad de ... 2021-05-13 13:42:07   \n",
       "99  @MedimasEPS no funciona plataforma para citas ... 2021-05-13 13:19:26   \n",
       "\n",
       "      city                   user_location                   id  \\\n",
       "0   Cúcuta                        Colombia  1393028405118001154   \n",
       "1   Cúcuta                Malaga santander  1393026978932998147   \n",
       "2   Cúcuta      Cúcuta, Norte de Santander  1393022501974941696   \n",
       "3   Cúcuta            Bucaramanga - Cúcuta  1393018208244879363   \n",
       "4   Cúcuta                Cúcuta, Colombia  1393015227822874625   \n",
       "..     ...                             ...                  ...   \n",
       "95  Cúcuta            Bucaramanga - Cúcuta  1392845459899699202   \n",
       "96  Cúcuta  En 5 departamentos de Colombia  1392844911511212034   \n",
       "97  Cúcuta      Cúcuta, Norte de Santander  1392841143038132229   \n",
       "98  Cúcuta                                  1392837564684546048   \n",
       "99  Cúcuta                                  1392831856974913543   \n",
       "\n",
       "                                                 link  \n",
       "0   https://twitter.com/i/web/stuatus/139302840511...  \n",
       "1   https://twitter.com/i/web/stuatus/139302697893...  \n",
       "2   https://twitter.com/i/web/stuatus/139302250197...  \n",
       "3   https://twitter.com/i/web/stuatus/139301820824...  \n",
       "4   https://twitter.com/i/web/stuatus/139301522782...  \n",
       "..                                                ...  \n",
       "95  https://twitter.com/i/web/stuatus/139284545989...  \n",
       "96  https://twitter.com/i/web/stuatus/139284491151...  \n",
       "97  https://twitter.com/i/web/stuatus/139284114303...  \n",
       "98  https://twitter.com/i/web/stuatus/139283756468...  \n",
       "99  https://twitter.com/i/web/stuatus/139283185697...  \n",
       "\n",
       "[100 rows x 6 columns]"
      ]
     },
     "execution_count": 116,
     "metadata": {},
     "output_type": "execute_result"
    }
   ],
   "source": [
    "t_processed = []\n",
    "\n",
    "for tweet in t: \n",
    "    temp = []\n",
    "    temp.append(tweet.full_text)\n",
    "    temp.append(tweet.created_at)\n",
    "    temp.append('Cúcuta')\n",
    "    temp.append(tweet.user.location)\n",
    "    temp.append(tweet.id)\n",
    "    temp.append(f\"https://twitter.com/i/web/stuatus/{tweet.id}\")\n",
    "    t_processed.append(temp)\n",
    "    \n",
    "data = pd.DataFrame(t_processed)\n",
    "data.columns = ['tweets', 'date', 'city', 'user_location', 'id', 'link']\n",
    "data"
   ]
  },
  {
   "cell_type": "code",
   "execution_count": 117,
   "metadata": {},
   "outputs": [],
   "source": [
    "pattern1 = '?P<pic>pic.twitter.com/[^\\s]+'\n",
    "pattern2 = '?P<url>https?://[^\\s]+'\n",
    "\n",
    "def text_clean(row):\n",
    "    text = row['tweets']\n",
    "    \n",
    "    links = [tuple(j for j in i if j)[-1] for i in re.findall(f\"({pattern1})|({pattern2})\",text)]\n",
    "    for link in links:\n",
    "        text = text.replace(link,\"\")\n",
    "    \n",
    "    hashtags = [interaction for interaction in text.split() if interaction.startswith(\"#\")]\n",
    "    for hashtag in hashtags:\n",
    "        text = text.replace(hashtag, \"\")\n",
    "        \n",
    "    mentions = [interaction for interaction in text.split() if interaction.startswith(\"@\")]\n",
    "    for mention in mentions:\n",
    "        text = text.replace(mention, \"\")\n",
    "        \n",
    "    return text, links, hashtags, mentions\n",
    "  \n",
    "data[['texto_limpio', 'links', 'hashtags', 'mentions']] = data.apply(text_clean, axis=1, result_type='expand')"
   ]
  },
  {
   "cell_type": "code",
   "execution_count": 118,
   "metadata": {},
   "outputs": [
    {
     "data": {
      "text/html": [
       "<div>\n",
       "<style scoped>\n",
       "    .dataframe tbody tr th:only-of-type {\n",
       "        vertical-align: middle;\n",
       "    }\n",
       "\n",
       "    .dataframe tbody tr th {\n",
       "        vertical-align: top;\n",
       "    }\n",
       "\n",
       "    .dataframe thead th {\n",
       "        text-align: right;\n",
       "    }\n",
       "</style>\n",
       "<table border=\"1\" class=\"dataframe\">\n",
       "  <thead>\n",
       "    <tr style=\"text-align: right;\">\n",
       "      <th></th>\n",
       "      <th>tweets</th>\n",
       "      <th>date</th>\n",
       "      <th>city</th>\n",
       "      <th>user_location</th>\n",
       "      <th>id</th>\n",
       "      <th>link</th>\n",
       "      <th>texto_limpio</th>\n",
       "      <th>links</th>\n",
       "      <th>hashtags</th>\n",
       "      <th>mentions</th>\n",
       "      <th>emojis</th>\n",
       "    </tr>\n",
       "  </thead>\n",
       "  <tbody>\n",
       "    <tr>\n",
       "      <th>0</th>\n",
       "      <td>Durante las actividades de verificación adelan...</td>\n",
       "      <td>2021-05-14 02:20:27</td>\n",
       "      <td>Cúcuta</td>\n",
       "      <td>Colombia</td>\n",
       "      <td>1393028405118001154</td>\n",
       "      <td>https://twitter.com/i/web/stuatus/139302840511...</td>\n",
       "      <td>Durante las actividades de verificación adelan...</td>\n",
       "      <td>[https://t.co/usqBVWdqMY]</td>\n",
       "      <td>[#GEM,, #Cúcuta,, #EstatutoTemporaldeProtección.]</td>\n",
       "      <td>[@MigracionCol,]</td>\n",
       "      <td>[]</td>\n",
       "    </tr>\n",
       "    <tr>\n",
       "      <th>1</th>\n",
       "      <td>#Málagavive #loúltimo | \\n\\nIglesias de Málaga...</td>\n",
       "      <td>2021-05-14 02:14:47</td>\n",
       "      <td>Cúcuta</td>\n",
       "      <td>Malaga santander</td>\n",
       "      <td>1393026978932998147</td>\n",
       "      <td>https://twitter.com/i/web/stuatus/139302697893...</td>\n",
       "      <td>| \\n\\nIglesias de Málaga enviaron un mensaje...</td>\n",
       "      <td>[https://t.co/eSHIEqozYU]</td>\n",
       "      <td>[#Málagavive, #loúltimo, #Málagavive, #familia...</td>\n",
       "      <td>[]</td>\n",
       "      <td>[]</td>\n",
       "    </tr>\n",
       "    <tr>\n",
       "      <th>2</th>\n",
       "      <td>🏡 Bosque de la variante\\n🏡En el mes de las mad...</td>\n",
       "      <td>2021-05-14 01:57:00</td>\n",
       "      <td>Cúcuta</td>\n",
       "      <td>Cúcuta, Norte de Santander</td>\n",
       "      <td>1393022501974941696</td>\n",
       "      <td>https://twitter.com/i/web/stuatus/139302250197...</td>\n",
       "      <td>🏡 Bosque de la variante\\n🏡En el mes de las mad...</td>\n",
       "      <td>[https://t.co/DHZ54OgkXw, https://t.co/z134vF5...</td>\n",
       "      <td>[#SiguemeYTeSigo, #Retwet, #Cúcuta, #Colombia,...</td>\n",
       "      <td>[]</td>\n",
       "      <td>[🏡, 🏡, 💰]</td>\n",
       "    </tr>\n",
       "    <tr>\n",
       "      <th>3</th>\n",
       "      <td>#LasTresDelOriente ✅| Conozca las tres noticia...</td>\n",
       "      <td>2021-05-14 01:39:56</td>\n",
       "      <td>Cúcuta</td>\n",
       "      <td>Bucaramanga - Cúcuta</td>\n",
       "      <td>1393018208244879363</td>\n",
       "      <td>https://twitter.com/i/web/stuatus/139301820824...</td>\n",
       "      <td>✅| Conozca las tres noticias más destacadas d...</td>\n",
       "      <td>[https://t.co/AZrLHUy4B0]</td>\n",
       "      <td>[#LasTresDelOriente, #Jueves, #Santander., #Cú...</td>\n",
       "      <td>[]</td>\n",
       "      <td>[✅]</td>\n",
       "    </tr>\n",
       "    <tr>\n",
       "      <th>4</th>\n",
       "      <td>Mañana se estrenará la obra \"El #bicentenario ...</td>\n",
       "      <td>2021-05-14 01:28:05</td>\n",
       "      <td>Cúcuta</td>\n",
       "      <td>Cúcuta, Colombia</td>\n",
       "      <td>1393015227822874625</td>\n",
       "      <td>https://twitter.com/i/web/stuatus/139301522782...</td>\n",
       "      <td>Mañana se estrenará la obra \"El  del congreso ...</td>\n",
       "      <td>[https://t.co/BxFUQ41OAm]</td>\n",
       "      <td>[#bicentenario, #Cúcuta\", #Teatro, #Cultura]</td>\n",
       "      <td>[]</td>\n",
       "      <td>[🎭]</td>\n",
       "    </tr>\n",
       "  </tbody>\n",
       "</table>\n",
       "</div>"
      ],
      "text/plain": [
       "                                              tweets                date  \\\n",
       "0  Durante las actividades de verificación adelan... 2021-05-14 02:20:27   \n",
       "1  #Málagavive #loúltimo | \\n\\nIglesias de Málaga... 2021-05-14 02:14:47   \n",
       "2  🏡 Bosque de la variante\\n🏡En el mes de las mad... 2021-05-14 01:57:00   \n",
       "3  #LasTresDelOriente ✅| Conozca las tres noticia... 2021-05-14 01:39:56   \n",
       "4  Mañana se estrenará la obra \"El #bicentenario ... 2021-05-14 01:28:05   \n",
       "\n",
       "     city               user_location                   id  \\\n",
       "0  Cúcuta                    Colombia  1393028405118001154   \n",
       "1  Cúcuta            Malaga santander  1393026978932998147   \n",
       "2  Cúcuta  Cúcuta, Norte de Santander  1393022501974941696   \n",
       "3  Cúcuta        Bucaramanga - Cúcuta  1393018208244879363   \n",
       "4  Cúcuta            Cúcuta, Colombia  1393015227822874625   \n",
       "\n",
       "                                                link  \\\n",
       "0  https://twitter.com/i/web/stuatus/139302840511...   \n",
       "1  https://twitter.com/i/web/stuatus/139302697893...   \n",
       "2  https://twitter.com/i/web/stuatus/139302250197...   \n",
       "3  https://twitter.com/i/web/stuatus/139301820824...   \n",
       "4  https://twitter.com/i/web/stuatus/139301522782...   \n",
       "\n",
       "                                        texto_limpio  \\\n",
       "0  Durante las actividades de verificación adelan...   \n",
       "1    | \\n\\nIglesias de Málaga enviaron un mensaje...   \n",
       "2  🏡 Bosque de la variante\\n🏡En el mes de las mad...   \n",
       "3   ✅| Conozca las tres noticias más destacadas d...   \n",
       "4  Mañana se estrenará la obra \"El  del congreso ...   \n",
       "\n",
       "                                               links  \\\n",
       "0                          [https://t.co/usqBVWdqMY]   \n",
       "1                          [https://t.co/eSHIEqozYU]   \n",
       "2  [https://t.co/DHZ54OgkXw, https://t.co/z134vF5...   \n",
       "3                          [https://t.co/AZrLHUy4B0]   \n",
       "4                          [https://t.co/BxFUQ41OAm]   \n",
       "\n",
       "                                            hashtags          mentions  \\\n",
       "0  [#GEM,, #Cúcuta,, #EstatutoTemporaldeProtección.]  [@MigracionCol,]   \n",
       "1  [#Málagavive, #loúltimo, #Málagavive, #familia...                []   \n",
       "2  [#SiguemeYTeSigo, #Retwet, #Cúcuta, #Colombia,...                []   \n",
       "3  [#LasTresDelOriente, #Jueves, #Santander., #Cú...                []   \n",
       "4       [#bicentenario, #Cúcuta\", #Teatro, #Cultura]                []   \n",
       "\n",
       "      emojis  \n",
       "0         []  \n",
       "1         []  \n",
       "2  [🏡, 🏡, 💰]  \n",
       "3        [✅]  \n",
       "4        [🎭]  "
      ]
     },
     "execution_count": 118,
     "metadata": {},
     "output_type": "execute_result"
    }
   ],
   "source": [
    "def get_emojis(text):\n",
    "    emoji_list = []\n",
    "    data = regex.findall(r'\\X', text)\n",
    "    for word in data:\n",
    "        if any(char in emoji.UNICODE_EMOJI['en'] for char in word):\n",
    "            emoji_list.append(word)\n",
    "\n",
    "    return emoji_list\n",
    "  \n",
    "data['emojis'] = data['texto_limpio'].apply(lambda text: get_emojis(text))\n",
    "data.head()"
   ]
  },
  {
   "cell_type": "code",
   "execution_count": 119,
   "metadata": {},
   "outputs": [
    {
     "data": {
      "text/html": [
       "<div>\n",
       "<style scoped>\n",
       "    .dataframe tbody tr th:only-of-type {\n",
       "        vertical-align: middle;\n",
       "    }\n",
       "\n",
       "    .dataframe tbody tr th {\n",
       "        vertical-align: top;\n",
       "    }\n",
       "\n",
       "    .dataframe thead th {\n",
       "        text-align: right;\n",
       "    }\n",
       "</style>\n",
       "<table border=\"1\" class=\"dataframe\">\n",
       "  <thead>\n",
       "    <tr style=\"text-align: right;\">\n",
       "      <th></th>\n",
       "      <th>hora</th>\n",
       "      <th>cnt</th>\n",
       "    </tr>\n",
       "  </thead>\n",
       "  <tbody>\n",
       "    <tr>\n",
       "      <th>77</th>\n",
       "      <td>00:14:00</td>\n",
       "      <td>1</td>\n",
       "    </tr>\n",
       "    <tr>\n",
       "      <th>29</th>\n",
       "      <td>00:26:00</td>\n",
       "      <td>1</td>\n",
       "    </tr>\n",
       "    <tr>\n",
       "      <th>62</th>\n",
       "      <td>01:28:00</td>\n",
       "      <td>1</td>\n",
       "    </tr>\n",
       "    <tr>\n",
       "      <th>46</th>\n",
       "      <td>01:39:00</td>\n",
       "      <td>1</td>\n",
       "    </tr>\n",
       "    <tr>\n",
       "      <th>84</th>\n",
       "      <td>01:57:00</td>\n",
       "      <td>1</td>\n",
       "    </tr>\n",
       "    <tr>\n",
       "      <th>...</th>\n",
       "      <td>...</td>\n",
       "      <td>...</td>\n",
       "    </tr>\n",
       "    <tr>\n",
       "      <th>22</th>\n",
       "      <td>22:44:00</td>\n",
       "      <td>1</td>\n",
       "    </tr>\n",
       "    <tr>\n",
       "      <th>74</th>\n",
       "      <td>23:13:00</td>\n",
       "      <td>1</td>\n",
       "    </tr>\n",
       "    <tr>\n",
       "      <th>93</th>\n",
       "      <td>23:35:00</td>\n",
       "      <td>1</td>\n",
       "    </tr>\n",
       "    <tr>\n",
       "      <th>17</th>\n",
       "      <td>23:36:00</td>\n",
       "      <td>1</td>\n",
       "    </tr>\n",
       "    <tr>\n",
       "      <th>31</th>\n",
       "      <td>23:55:00</td>\n",
       "      <td>1</td>\n",
       "    </tr>\n",
       "  </tbody>\n",
       "</table>\n",
       "<p>94 rows × 2 columns</p>\n",
       "</div>"
      ],
      "text/plain": [
       "        hora  cnt\n",
       "77  00:14:00    1\n",
       "29  00:26:00    1\n",
       "62  01:28:00    1\n",
       "46  01:39:00    1\n",
       "84  01:57:00    1\n",
       "..       ...  ...\n",
       "22  22:44:00    1\n",
       "74  23:13:00    1\n",
       "93  23:35:00    1\n",
       "17  23:36:00    1\n",
       "31  23:55:00    1\n",
       "\n",
       "[94 rows x 2 columns]"
      ]
     },
     "execution_count": 119,
     "metadata": {},
     "output_type": "execute_result"
    }
   ],
   "source": [
    "data['hora'] = data['date'].dt.floor('T').dt.time\n",
    "temp = pd.DataFrame(data.hora.value_counts()).reset_index()\n",
    "temp.columns = ['hora', 'cnt']\n",
    "temp = temp.sort_values('hora')\n",
    "temp"
   ]
  },
  {
   "cell_type": "markdown",
   "metadata": {},
   "source": [
    "###  `[25 pts]` Punto 2: Hacer una visualización sobre esos tuits"
   ]
  },
  {
   "cell_type": "code",
   "execution_count": 120,
   "metadata": {},
   "outputs": [
    {
     "data": {
      "text/html": [
       "        <script type=\"text/javascript\">\n",
       "        window.PlotlyConfig = {MathJaxConfig: 'local'};\n",
       "        if (window.MathJax) {MathJax.Hub.Config({SVG: {font: \"STIX-Web\"}});}\n",
       "        if (typeof require !== 'undefined') {\n",
       "        require.undef(\"plotly\");\n",
       "        requirejs.config({\n",
       "            paths: {\n",
       "                'plotly': ['https://cdn.plot.ly/plotly-latest.min']\n",
       "            }\n",
       "        });\n",
       "        require(['plotly'], function(Plotly) {\n",
       "            window._Plotly = Plotly;\n",
       "        });\n",
       "        }\n",
       "        </script>\n",
       "        "
      ]
     },
     "metadata": {},
     "output_type": "display_data"
    }
   ],
   "source": [
    "import plotly.io as pio\n",
    "import plotly.express as px\n",
    "import plotly.graph_objs as go\n",
    "from plotly.offline import download_plotlyjs, init_notebook_mode, plot, iplot\n",
    "\n",
    "import matplotlib.pyplot as plt\n",
    "%matplotlib inline\n",
    "init_notebook_mode(connected=True)"
   ]
  },
  {
   "cell_type": "code",
   "execution_count": 121,
   "metadata": {},
   "outputs": [
    {
     "data": {
      "application/vnd.plotly.v1+json": {
       "config": {
        "linkText": "Export to plot.ly",
        "plotlyServerURL": "https://plot.ly",
        "showLink": false
       },
       "data": [
        {
         "hoverinfo": "text",
         "line": {
          "color": "blue"
         },
         "mode": "lines+markers",
         "name": "Horas",
         "text": [
          "Fecha: 00:14:00<br>Tuits: 1",
          "Fecha: 00:26:00<br>Tuits: 1",
          "Fecha: 01:28:00<br>Tuits: 1",
          "Fecha: 01:39:00<br>Tuits: 1",
          "Fecha: 01:57:00<br>Tuits: 1",
          "Fecha: 02:14:00<br>Tuits: 1",
          "Fecha: 02:20:00<br>Tuits: 1",
          "Fecha: 13:19:00<br>Tuits: 1",
          "Fecha: 13:42:00<br>Tuits: 1",
          "Fecha: 13:56:00<br>Tuits: 1",
          "Fecha: 14:11:00<br>Tuits: 1",
          "Fecha: 14:13:00<br>Tuits: 1",
          "Fecha: 14:20:00<br>Tuits: 2",
          "Fecha: 14:39:00<br>Tuits: 1",
          "Fecha: 14:43:00<br>Tuits: 1",
          "Fecha: 15:01:00<br>Tuits: 2",
          "Fecha: 15:02:00<br>Tuits: 2",
          "Fecha: 15:10:00<br>Tuits: 1",
          "Fecha: 15:12:00<br>Tuits: 1",
          "Fecha: 15:30:00<br>Tuits: 1",
          "Fecha: 15:52:00<br>Tuits: 1",
          "Fecha: 15:54:00<br>Tuits: 1",
          "Fecha: 15:57:00<br>Tuits: 1",
          "Fecha: 16:01:00<br>Tuits: 1",
          "Fecha: 16:07:00<br>Tuits: 1",
          "Fecha: 16:17:00<br>Tuits: 1",
          "Fecha: 16:20:00<br>Tuits: 1",
          "Fecha: 16:36:00<br>Tuits: 1",
          "Fecha: 17:02:00<br>Tuits: 1",
          "Fecha: 17:13:00<br>Tuits: 1",
          "Fecha: 17:20:00<br>Tuits: 1",
          "Fecha: 17:23:00<br>Tuits: 1",
          "Fecha: 17:34:00<br>Tuits: 1",
          "Fecha: 17:45:00<br>Tuits: 1",
          "Fecha: 17:49:00<br>Tuits: 1",
          "Fecha: 17:58:00<br>Tuits: 1",
          "Fecha: 18:05:00<br>Tuits: 1",
          "Fecha: 18:18:00<br>Tuits: 1",
          "Fecha: 18:33:00<br>Tuits: 1",
          "Fecha: 18:39:00<br>Tuits: 1",
          "Fecha: 18:53:00<br>Tuits: 1",
          "Fecha: 19:00:00<br>Tuits: 1",
          "Fecha: 19:07:00<br>Tuits: 1",
          "Fecha: 19:09:00<br>Tuits: 1",
          "Fecha: 19:18:00<br>Tuits: 1",
          "Fecha: 19:29:00<br>Tuits: 1",
          "Fecha: 19:46:00<br>Tuits: 1",
          "Fecha: 20:00:00<br>Tuits: 1",
          "Fecha: 20:07:00<br>Tuits: 1",
          "Fecha: 20:20:00<br>Tuits: 2",
          "Fecha: 20:39:00<br>Tuits: 1",
          "Fecha: 20:40:00<br>Tuits: 1",
          "Fecha: 20:42:00<br>Tuits: 1",
          "Fecha: 20:45:00<br>Tuits: 1",
          "Fecha: 20:46:00<br>Tuits: 1",
          "Fecha: 20:47:00<br>Tuits: 1",
          "Fecha: 20:50:00<br>Tuits: 1",
          "Fecha: 20:51:00<br>Tuits: 1",
          "Fecha: 20:53:00<br>Tuits: 1",
          "Fecha: 20:56:00<br>Tuits: 1",
          "Fecha: 20:58:00<br>Tuits: 1",
          "Fecha: 21:00:00<br>Tuits: 1",
          "Fecha: 21:02:00<br>Tuits: 1",
          "Fecha: 21:07:00<br>Tuits: 1",
          "Fecha: 21:09:00<br>Tuits: 1",
          "Fecha: 21:10:00<br>Tuits: 1",
          "Fecha: 21:12:00<br>Tuits: 1",
          "Fecha: 21:15:00<br>Tuits: 1",
          "Fecha: 21:17:00<br>Tuits: 1",
          "Fecha: 21:18:00<br>Tuits: 1",
          "Fecha: 21:20:00<br>Tuits: 1",
          "Fecha: 21:22:00<br>Tuits: 1",
          "Fecha: 21:23:00<br>Tuits: 2",
          "Fecha: 21:26:00<br>Tuits: 1",
          "Fecha: 21:27:00<br>Tuits: 1",
          "Fecha: 21:32:00<br>Tuits: 1",
          "Fecha: 21:34:00<br>Tuits: 1",
          "Fecha: 21:37:00<br>Tuits: 1",
          "Fecha: 21:39:00<br>Tuits: 1",
          "Fecha: 21:44:00<br>Tuits: 1",
          "Fecha: 21:48:00<br>Tuits: 1",
          "Fecha: 21:56:00<br>Tuits: 1",
          "Fecha: 22:05:00<br>Tuits: 1",
          "Fecha: 22:15:00<br>Tuits: 2",
          "Fecha: 22:20:00<br>Tuits: 1",
          "Fecha: 22:28:00<br>Tuits: 1",
          "Fecha: 22:29:00<br>Tuits: 1",
          "Fecha: 22:31:00<br>Tuits: 1",
          "Fecha: 22:33:00<br>Tuits: 1",
          "Fecha: 22:44:00<br>Tuits: 1",
          "Fecha: 23:13:00<br>Tuits: 1",
          "Fecha: 23:35:00<br>Tuits: 1",
          "Fecha: 23:36:00<br>Tuits: 1",
          "Fecha: 23:55:00<br>Tuits: 1"
         ],
         "type": "scatter",
         "x": [
          "00:14:00",
          "00:26:00",
          "01:28:00",
          "01:39:00",
          "01:57:00",
          "02:14:00",
          "02:20:00",
          "13:19:00",
          "13:42:00",
          "13:56:00",
          "14:11:00",
          "14:13:00",
          "14:20:00",
          "14:39:00",
          "14:43:00",
          "15:01:00",
          "15:02:00",
          "15:10:00",
          "15:12:00",
          "15:30:00",
          "15:52:00",
          "15:54:00",
          "15:57:00",
          "16:01:00",
          "16:07:00",
          "16:17:00",
          "16:20:00",
          "16:36:00",
          "17:02:00",
          "17:13:00",
          "17:20:00",
          "17:23:00",
          "17:34:00",
          "17:45:00",
          "17:49:00",
          "17:58:00",
          "18:05:00",
          "18:18:00",
          "18:33:00",
          "18:39:00",
          "18:53:00",
          "19:00:00",
          "19:07:00",
          "19:09:00",
          "19:18:00",
          "19:29:00",
          "19:46:00",
          "20:00:00",
          "20:07:00",
          "20:20:00",
          "20:39:00",
          "20:40:00",
          "20:42:00",
          "20:45:00",
          "20:46:00",
          "20:47:00",
          "20:50:00",
          "20:51:00",
          "20:53:00",
          "20:56:00",
          "20:58:00",
          "21:00:00",
          "21:02:00",
          "21:07:00",
          "21:09:00",
          "21:10:00",
          "21:12:00",
          "21:15:00",
          "21:17:00",
          "21:18:00",
          "21:20:00",
          "21:22:00",
          "21:23:00",
          "21:26:00",
          "21:27:00",
          "21:32:00",
          "21:34:00",
          "21:37:00",
          "21:39:00",
          "21:44:00",
          "21:48:00",
          "21:56:00",
          "22:05:00",
          "22:15:00",
          "22:20:00",
          "22:28:00",
          "22:29:00",
          "22:31:00",
          "22:33:00",
          "22:44:00",
          "23:13:00",
          "23:35:00",
          "23:36:00",
          "23:55:00"
         ],
         "y": [
          1,
          1,
          1,
          1,
          1,
          1,
          1,
          1,
          1,
          1,
          1,
          1,
          2,
          1,
          1,
          2,
          2,
          1,
          1,
          1,
          1,
          1,
          1,
          1,
          1,
          1,
          1,
          1,
          1,
          1,
          1,
          1,
          1,
          1,
          1,
          1,
          1,
          1,
          1,
          1,
          1,
          1,
          1,
          1,
          1,
          1,
          1,
          1,
          1,
          2,
          1,
          1,
          1,
          1,
          1,
          1,
          1,
          1,
          1,
          1,
          1,
          1,
          1,
          1,
          1,
          1,
          1,
          1,
          1,
          1,
          1,
          1,
          2,
          1,
          1,
          1,
          1,
          1,
          1,
          1,
          1,
          1,
          1,
          2,
          1,
          1,
          1,
          1,
          1,
          1,
          1,
          1,
          1,
          1
         ]
        }
       ],
       "layout": {
        "template": {
         "data": {
          "bar": [
           {
            "error_x": {
             "color": "#2a3f5f"
            },
            "error_y": {
             "color": "#2a3f5f"
            },
            "marker": {
             "line": {
              "color": "#E5ECF6",
              "width": 0.5
             }
            },
            "type": "bar"
           }
          ],
          "barpolar": [
           {
            "marker": {
             "line": {
              "color": "#E5ECF6",
              "width": 0.5
             }
            },
            "type": "barpolar"
           }
          ],
          "carpet": [
           {
            "aaxis": {
             "endlinecolor": "#2a3f5f",
             "gridcolor": "white",
             "linecolor": "white",
             "minorgridcolor": "white",
             "startlinecolor": "#2a3f5f"
            },
            "baxis": {
             "endlinecolor": "#2a3f5f",
             "gridcolor": "white",
             "linecolor": "white",
             "minorgridcolor": "white",
             "startlinecolor": "#2a3f5f"
            },
            "type": "carpet"
           }
          ],
          "choropleth": [
           {
            "colorbar": {
             "outlinewidth": 0,
             "ticks": ""
            },
            "type": "choropleth"
           }
          ],
          "contour": [
           {
            "colorbar": {
             "outlinewidth": 0,
             "ticks": ""
            },
            "colorscale": [
             [
              0,
              "#0d0887"
             ],
             [
              0.1111111111111111,
              "#46039f"
             ],
             [
              0.2222222222222222,
              "#7201a8"
             ],
             [
              0.3333333333333333,
              "#9c179e"
             ],
             [
              0.4444444444444444,
              "#bd3786"
             ],
             [
              0.5555555555555556,
              "#d8576b"
             ],
             [
              0.6666666666666666,
              "#ed7953"
             ],
             [
              0.7777777777777778,
              "#fb9f3a"
             ],
             [
              0.8888888888888888,
              "#fdca26"
             ],
             [
              1,
              "#f0f921"
             ]
            ],
            "type": "contour"
           }
          ],
          "contourcarpet": [
           {
            "colorbar": {
             "outlinewidth": 0,
             "ticks": ""
            },
            "type": "contourcarpet"
           }
          ],
          "heatmap": [
           {
            "colorbar": {
             "outlinewidth": 0,
             "ticks": ""
            },
            "colorscale": [
             [
              0,
              "#0d0887"
             ],
             [
              0.1111111111111111,
              "#46039f"
             ],
             [
              0.2222222222222222,
              "#7201a8"
             ],
             [
              0.3333333333333333,
              "#9c179e"
             ],
             [
              0.4444444444444444,
              "#bd3786"
             ],
             [
              0.5555555555555556,
              "#d8576b"
             ],
             [
              0.6666666666666666,
              "#ed7953"
             ],
             [
              0.7777777777777778,
              "#fb9f3a"
             ],
             [
              0.8888888888888888,
              "#fdca26"
             ],
             [
              1,
              "#f0f921"
             ]
            ],
            "type": "heatmap"
           }
          ],
          "heatmapgl": [
           {
            "colorbar": {
             "outlinewidth": 0,
             "ticks": ""
            },
            "colorscale": [
             [
              0,
              "#0d0887"
             ],
             [
              0.1111111111111111,
              "#46039f"
             ],
             [
              0.2222222222222222,
              "#7201a8"
             ],
             [
              0.3333333333333333,
              "#9c179e"
             ],
             [
              0.4444444444444444,
              "#bd3786"
             ],
             [
              0.5555555555555556,
              "#d8576b"
             ],
             [
              0.6666666666666666,
              "#ed7953"
             ],
             [
              0.7777777777777778,
              "#fb9f3a"
             ],
             [
              0.8888888888888888,
              "#fdca26"
             ],
             [
              1,
              "#f0f921"
             ]
            ],
            "type": "heatmapgl"
           }
          ],
          "histogram": [
           {
            "marker": {
             "colorbar": {
              "outlinewidth": 0,
              "ticks": ""
             }
            },
            "type": "histogram"
           }
          ],
          "histogram2d": [
           {
            "colorbar": {
             "outlinewidth": 0,
             "ticks": ""
            },
            "colorscale": [
             [
              0,
              "#0d0887"
             ],
             [
              0.1111111111111111,
              "#46039f"
             ],
             [
              0.2222222222222222,
              "#7201a8"
             ],
             [
              0.3333333333333333,
              "#9c179e"
             ],
             [
              0.4444444444444444,
              "#bd3786"
             ],
             [
              0.5555555555555556,
              "#d8576b"
             ],
             [
              0.6666666666666666,
              "#ed7953"
             ],
             [
              0.7777777777777778,
              "#fb9f3a"
             ],
             [
              0.8888888888888888,
              "#fdca26"
             ],
             [
              1,
              "#f0f921"
             ]
            ],
            "type": "histogram2d"
           }
          ],
          "histogram2dcontour": [
           {
            "colorbar": {
             "outlinewidth": 0,
             "ticks": ""
            },
            "colorscale": [
             [
              0,
              "#0d0887"
             ],
             [
              0.1111111111111111,
              "#46039f"
             ],
             [
              0.2222222222222222,
              "#7201a8"
             ],
             [
              0.3333333333333333,
              "#9c179e"
             ],
             [
              0.4444444444444444,
              "#bd3786"
             ],
             [
              0.5555555555555556,
              "#d8576b"
             ],
             [
              0.6666666666666666,
              "#ed7953"
             ],
             [
              0.7777777777777778,
              "#fb9f3a"
             ],
             [
              0.8888888888888888,
              "#fdca26"
             ],
             [
              1,
              "#f0f921"
             ]
            ],
            "type": "histogram2dcontour"
           }
          ],
          "mesh3d": [
           {
            "colorbar": {
             "outlinewidth": 0,
             "ticks": ""
            },
            "type": "mesh3d"
           }
          ],
          "parcoords": [
           {
            "line": {
             "colorbar": {
              "outlinewidth": 0,
              "ticks": ""
             }
            },
            "type": "parcoords"
           }
          ],
          "pie": [
           {
            "automargin": true,
            "type": "pie"
           }
          ],
          "scatter": [
           {
            "marker": {
             "colorbar": {
              "outlinewidth": 0,
              "ticks": ""
             }
            },
            "type": "scatter"
           }
          ],
          "scatter3d": [
           {
            "line": {
             "colorbar": {
              "outlinewidth": 0,
              "ticks": ""
             }
            },
            "marker": {
             "colorbar": {
              "outlinewidth": 0,
              "ticks": ""
             }
            },
            "type": "scatter3d"
           }
          ],
          "scattercarpet": [
           {
            "marker": {
             "colorbar": {
              "outlinewidth": 0,
              "ticks": ""
             }
            },
            "type": "scattercarpet"
           }
          ],
          "scattergeo": [
           {
            "marker": {
             "colorbar": {
              "outlinewidth": 0,
              "ticks": ""
             }
            },
            "type": "scattergeo"
           }
          ],
          "scattergl": [
           {
            "marker": {
             "colorbar": {
              "outlinewidth": 0,
              "ticks": ""
             }
            },
            "type": "scattergl"
           }
          ],
          "scattermapbox": [
           {
            "marker": {
             "colorbar": {
              "outlinewidth": 0,
              "ticks": ""
             }
            },
            "type": "scattermapbox"
           }
          ],
          "scatterpolar": [
           {
            "marker": {
             "colorbar": {
              "outlinewidth": 0,
              "ticks": ""
             }
            },
            "type": "scatterpolar"
           }
          ],
          "scatterpolargl": [
           {
            "marker": {
             "colorbar": {
              "outlinewidth": 0,
              "ticks": ""
             }
            },
            "type": "scatterpolargl"
           }
          ],
          "scatterternary": [
           {
            "marker": {
             "colorbar": {
              "outlinewidth": 0,
              "ticks": ""
             }
            },
            "type": "scatterternary"
           }
          ],
          "surface": [
           {
            "colorbar": {
             "outlinewidth": 0,
             "ticks": ""
            },
            "colorscale": [
             [
              0,
              "#0d0887"
             ],
             [
              0.1111111111111111,
              "#46039f"
             ],
             [
              0.2222222222222222,
              "#7201a8"
             ],
             [
              0.3333333333333333,
              "#9c179e"
             ],
             [
              0.4444444444444444,
              "#bd3786"
             ],
             [
              0.5555555555555556,
              "#d8576b"
             ],
             [
              0.6666666666666666,
              "#ed7953"
             ],
             [
              0.7777777777777778,
              "#fb9f3a"
             ],
             [
              0.8888888888888888,
              "#fdca26"
             ],
             [
              1,
              "#f0f921"
             ]
            ],
            "type": "surface"
           }
          ],
          "table": [
           {
            "cells": {
             "fill": {
              "color": "#EBF0F8"
             },
             "line": {
              "color": "white"
             }
            },
            "header": {
             "fill": {
              "color": "#C8D4E3"
             },
             "line": {
              "color": "white"
             }
            },
            "type": "table"
           }
          ]
         },
         "layout": {
          "annotationdefaults": {
           "arrowcolor": "#2a3f5f",
           "arrowhead": 0,
           "arrowwidth": 1
          },
          "autotypenumbers": "strict",
          "coloraxis": {
           "colorbar": {
            "outlinewidth": 0,
            "ticks": ""
           }
          },
          "colorscale": {
           "diverging": [
            [
             0,
             "#8e0152"
            ],
            [
             0.1,
             "#c51b7d"
            ],
            [
             0.2,
             "#de77ae"
            ],
            [
             0.3,
             "#f1b6da"
            ],
            [
             0.4,
             "#fde0ef"
            ],
            [
             0.5,
             "#f7f7f7"
            ],
            [
             0.6,
             "#e6f5d0"
            ],
            [
             0.7,
             "#b8e186"
            ],
            [
             0.8,
             "#7fbc41"
            ],
            [
             0.9,
             "#4d9221"
            ],
            [
             1,
             "#276419"
            ]
           ],
           "sequential": [
            [
             0,
             "#0d0887"
            ],
            [
             0.1111111111111111,
             "#46039f"
            ],
            [
             0.2222222222222222,
             "#7201a8"
            ],
            [
             0.3333333333333333,
             "#9c179e"
            ],
            [
             0.4444444444444444,
             "#bd3786"
            ],
            [
             0.5555555555555556,
             "#d8576b"
            ],
            [
             0.6666666666666666,
             "#ed7953"
            ],
            [
             0.7777777777777778,
             "#fb9f3a"
            ],
            [
             0.8888888888888888,
             "#fdca26"
            ],
            [
             1,
             "#f0f921"
            ]
           ],
           "sequentialminus": [
            [
             0,
             "#0d0887"
            ],
            [
             0.1111111111111111,
             "#46039f"
            ],
            [
             0.2222222222222222,
             "#7201a8"
            ],
            [
             0.3333333333333333,
             "#9c179e"
            ],
            [
             0.4444444444444444,
             "#bd3786"
            ],
            [
             0.5555555555555556,
             "#d8576b"
            ],
            [
             0.6666666666666666,
             "#ed7953"
            ],
            [
             0.7777777777777778,
             "#fb9f3a"
            ],
            [
             0.8888888888888888,
             "#fdca26"
            ],
            [
             1,
             "#f0f921"
            ]
           ]
          },
          "colorway": [
           "#636efa",
           "#EF553B",
           "#00cc96",
           "#ab63fa",
           "#FFA15A",
           "#19d3f3",
           "#FF6692",
           "#B6E880",
           "#FF97FF",
           "#FECB52"
          ],
          "font": {
           "color": "#2a3f5f"
          },
          "geo": {
           "bgcolor": "white",
           "lakecolor": "white",
           "landcolor": "#E5ECF6",
           "showlakes": true,
           "showland": true,
           "subunitcolor": "white"
          },
          "hoverlabel": {
           "align": "left"
          },
          "hovermode": "closest",
          "mapbox": {
           "style": "light"
          },
          "paper_bgcolor": "white",
          "plot_bgcolor": "#E5ECF6",
          "polar": {
           "angularaxis": {
            "gridcolor": "white",
            "linecolor": "white",
            "ticks": ""
           },
           "bgcolor": "#E5ECF6",
           "radialaxis": {
            "gridcolor": "white",
            "linecolor": "white",
            "ticks": ""
           }
          },
          "scene": {
           "xaxis": {
            "backgroundcolor": "#E5ECF6",
            "gridcolor": "white",
            "gridwidth": 2,
            "linecolor": "white",
            "showbackground": true,
            "ticks": "",
            "zerolinecolor": "white"
           },
           "yaxis": {
            "backgroundcolor": "#E5ECF6",
            "gridcolor": "white",
            "gridwidth": 2,
            "linecolor": "white",
            "showbackground": true,
            "ticks": "",
            "zerolinecolor": "white"
           },
           "zaxis": {
            "backgroundcolor": "#E5ECF6",
            "gridcolor": "white",
            "gridwidth": 2,
            "linecolor": "white",
            "showbackground": true,
            "ticks": "",
            "zerolinecolor": "white"
           }
          },
          "shapedefaults": {
           "line": {
            "color": "#2a3f5f"
           }
          },
          "ternary": {
           "aaxis": {
            "gridcolor": "white",
            "linecolor": "white",
            "ticks": ""
           },
           "baxis": {
            "gridcolor": "white",
            "linecolor": "white",
            "ticks": ""
           },
           "bgcolor": "#E5ECF6",
           "caxis": {
            "gridcolor": "white",
            "linecolor": "white",
            "ticks": ""
           }
          },
          "title": {
           "x": 0.05
          },
          "xaxis": {
           "automargin": true,
           "gridcolor": "white",
           "linecolor": "white",
           "ticks": "",
           "title": {
            "standoff": 15
           },
           "zerolinecolor": "white",
           "zerolinewidth": 2
          },
          "yaxis": {
           "automargin": true,
           "gridcolor": "white",
           "linecolor": "white",
           "ticks": "",
           "title": {
            "standoff": 15
           },
           "zerolinecolor": "white",
           "zerolinewidth": 2
          }
         }
        },
        "title": {
         "text": "Número de tuits por hora"
        }
       }
      },
      "text/html": [
       "<div>                            <div id=\"92b3ef54-01cd-4c12-a7c0-781ef3151862\" class=\"plotly-graph-div\" style=\"height:525px; width:100%;\"></div>            <script type=\"text/javascript\">                require([\"plotly\"], function(Plotly) {                    window.PLOTLYENV=window.PLOTLYENV || {};                                    if (document.getElementById(\"92b3ef54-01cd-4c12-a7c0-781ef3151862\")) {                    Plotly.newPlot(                        \"92b3ef54-01cd-4c12-a7c0-781ef3151862\",                        [{\"hoverinfo\": \"text\", \"line\": {\"color\": \"blue\"}, \"mode\": \"lines+markers\", \"name\": \"Horas\", \"text\": [\"Fecha: 00:14:00<br>Tuits: 1\", \"Fecha: 00:26:00<br>Tuits: 1\", \"Fecha: 01:28:00<br>Tuits: 1\", \"Fecha: 01:39:00<br>Tuits: 1\", \"Fecha: 01:57:00<br>Tuits: 1\", \"Fecha: 02:14:00<br>Tuits: 1\", \"Fecha: 02:20:00<br>Tuits: 1\", \"Fecha: 13:19:00<br>Tuits: 1\", \"Fecha: 13:42:00<br>Tuits: 1\", \"Fecha: 13:56:00<br>Tuits: 1\", \"Fecha: 14:11:00<br>Tuits: 1\", \"Fecha: 14:13:00<br>Tuits: 1\", \"Fecha: 14:20:00<br>Tuits: 2\", \"Fecha: 14:39:00<br>Tuits: 1\", \"Fecha: 14:43:00<br>Tuits: 1\", \"Fecha: 15:01:00<br>Tuits: 2\", \"Fecha: 15:02:00<br>Tuits: 2\", \"Fecha: 15:10:00<br>Tuits: 1\", \"Fecha: 15:12:00<br>Tuits: 1\", \"Fecha: 15:30:00<br>Tuits: 1\", \"Fecha: 15:52:00<br>Tuits: 1\", \"Fecha: 15:54:00<br>Tuits: 1\", \"Fecha: 15:57:00<br>Tuits: 1\", \"Fecha: 16:01:00<br>Tuits: 1\", \"Fecha: 16:07:00<br>Tuits: 1\", \"Fecha: 16:17:00<br>Tuits: 1\", \"Fecha: 16:20:00<br>Tuits: 1\", \"Fecha: 16:36:00<br>Tuits: 1\", \"Fecha: 17:02:00<br>Tuits: 1\", \"Fecha: 17:13:00<br>Tuits: 1\", \"Fecha: 17:20:00<br>Tuits: 1\", \"Fecha: 17:23:00<br>Tuits: 1\", \"Fecha: 17:34:00<br>Tuits: 1\", \"Fecha: 17:45:00<br>Tuits: 1\", \"Fecha: 17:49:00<br>Tuits: 1\", \"Fecha: 17:58:00<br>Tuits: 1\", \"Fecha: 18:05:00<br>Tuits: 1\", \"Fecha: 18:18:00<br>Tuits: 1\", \"Fecha: 18:33:00<br>Tuits: 1\", \"Fecha: 18:39:00<br>Tuits: 1\", \"Fecha: 18:53:00<br>Tuits: 1\", \"Fecha: 19:00:00<br>Tuits: 1\", \"Fecha: 19:07:00<br>Tuits: 1\", \"Fecha: 19:09:00<br>Tuits: 1\", \"Fecha: 19:18:00<br>Tuits: 1\", \"Fecha: 19:29:00<br>Tuits: 1\", \"Fecha: 19:46:00<br>Tuits: 1\", \"Fecha: 20:00:00<br>Tuits: 1\", \"Fecha: 20:07:00<br>Tuits: 1\", \"Fecha: 20:20:00<br>Tuits: 2\", \"Fecha: 20:39:00<br>Tuits: 1\", \"Fecha: 20:40:00<br>Tuits: 1\", \"Fecha: 20:42:00<br>Tuits: 1\", \"Fecha: 20:45:00<br>Tuits: 1\", \"Fecha: 20:46:00<br>Tuits: 1\", \"Fecha: 20:47:00<br>Tuits: 1\", \"Fecha: 20:50:00<br>Tuits: 1\", \"Fecha: 20:51:00<br>Tuits: 1\", \"Fecha: 20:53:00<br>Tuits: 1\", \"Fecha: 20:56:00<br>Tuits: 1\", \"Fecha: 20:58:00<br>Tuits: 1\", \"Fecha: 21:00:00<br>Tuits: 1\", \"Fecha: 21:02:00<br>Tuits: 1\", \"Fecha: 21:07:00<br>Tuits: 1\", \"Fecha: 21:09:00<br>Tuits: 1\", \"Fecha: 21:10:00<br>Tuits: 1\", \"Fecha: 21:12:00<br>Tuits: 1\", \"Fecha: 21:15:00<br>Tuits: 1\", \"Fecha: 21:17:00<br>Tuits: 1\", \"Fecha: 21:18:00<br>Tuits: 1\", \"Fecha: 21:20:00<br>Tuits: 1\", \"Fecha: 21:22:00<br>Tuits: 1\", \"Fecha: 21:23:00<br>Tuits: 2\", \"Fecha: 21:26:00<br>Tuits: 1\", \"Fecha: 21:27:00<br>Tuits: 1\", \"Fecha: 21:32:00<br>Tuits: 1\", \"Fecha: 21:34:00<br>Tuits: 1\", \"Fecha: 21:37:00<br>Tuits: 1\", \"Fecha: 21:39:00<br>Tuits: 1\", \"Fecha: 21:44:00<br>Tuits: 1\", \"Fecha: 21:48:00<br>Tuits: 1\", \"Fecha: 21:56:00<br>Tuits: 1\", \"Fecha: 22:05:00<br>Tuits: 1\", \"Fecha: 22:15:00<br>Tuits: 2\", \"Fecha: 22:20:00<br>Tuits: 1\", \"Fecha: 22:28:00<br>Tuits: 1\", \"Fecha: 22:29:00<br>Tuits: 1\", \"Fecha: 22:31:00<br>Tuits: 1\", \"Fecha: 22:33:00<br>Tuits: 1\", \"Fecha: 22:44:00<br>Tuits: 1\", \"Fecha: 23:13:00<br>Tuits: 1\", \"Fecha: 23:35:00<br>Tuits: 1\", \"Fecha: 23:36:00<br>Tuits: 1\", \"Fecha: 23:55:00<br>Tuits: 1\"], \"type\": \"scatter\", \"x\": [\"00:14:00\", \"00:26:00\", \"01:28:00\", \"01:39:00\", \"01:57:00\", \"02:14:00\", \"02:20:00\", \"13:19:00\", \"13:42:00\", \"13:56:00\", \"14:11:00\", \"14:13:00\", \"14:20:00\", \"14:39:00\", \"14:43:00\", \"15:01:00\", \"15:02:00\", \"15:10:00\", \"15:12:00\", \"15:30:00\", \"15:52:00\", \"15:54:00\", \"15:57:00\", \"16:01:00\", \"16:07:00\", \"16:17:00\", \"16:20:00\", \"16:36:00\", \"17:02:00\", \"17:13:00\", \"17:20:00\", \"17:23:00\", \"17:34:00\", \"17:45:00\", \"17:49:00\", \"17:58:00\", \"18:05:00\", \"18:18:00\", \"18:33:00\", \"18:39:00\", \"18:53:00\", \"19:00:00\", \"19:07:00\", \"19:09:00\", \"19:18:00\", \"19:29:00\", \"19:46:00\", \"20:00:00\", \"20:07:00\", \"20:20:00\", \"20:39:00\", \"20:40:00\", \"20:42:00\", \"20:45:00\", \"20:46:00\", \"20:47:00\", \"20:50:00\", \"20:51:00\", \"20:53:00\", \"20:56:00\", \"20:58:00\", \"21:00:00\", \"21:02:00\", \"21:07:00\", \"21:09:00\", \"21:10:00\", \"21:12:00\", \"21:15:00\", \"21:17:00\", \"21:18:00\", \"21:20:00\", \"21:22:00\", \"21:23:00\", \"21:26:00\", \"21:27:00\", \"21:32:00\", \"21:34:00\", \"21:37:00\", \"21:39:00\", \"21:44:00\", \"21:48:00\", \"21:56:00\", \"22:05:00\", \"22:15:00\", \"22:20:00\", \"22:28:00\", \"22:29:00\", \"22:31:00\", \"22:33:00\", \"22:44:00\", \"23:13:00\", \"23:35:00\", \"23:36:00\", \"23:55:00\"], \"y\": [1, 1, 1, 1, 1, 1, 1, 1, 1, 1, 1, 1, 2, 1, 1, 2, 2, 1, 1, 1, 1, 1, 1, 1, 1, 1, 1, 1, 1, 1, 1, 1, 1, 1, 1, 1, 1, 1, 1, 1, 1, 1, 1, 1, 1, 1, 1, 1, 1, 2, 1, 1, 1, 1, 1, 1, 1, 1, 1, 1, 1, 1, 1, 1, 1, 1, 1, 1, 1, 1, 1, 1, 2, 1, 1, 1, 1, 1, 1, 1, 1, 1, 1, 2, 1, 1, 1, 1, 1, 1, 1, 1, 1, 1]}],                        {\"template\": {\"data\": {\"bar\": [{\"error_x\": {\"color\": \"#2a3f5f\"}, \"error_y\": {\"color\": \"#2a3f5f\"}, \"marker\": {\"line\": {\"color\": \"#E5ECF6\", \"width\": 0.5}}, \"type\": \"bar\"}], \"barpolar\": [{\"marker\": {\"line\": {\"color\": \"#E5ECF6\", \"width\": 0.5}}, \"type\": \"barpolar\"}], \"carpet\": [{\"aaxis\": {\"endlinecolor\": \"#2a3f5f\", \"gridcolor\": \"white\", \"linecolor\": \"white\", \"minorgridcolor\": \"white\", \"startlinecolor\": \"#2a3f5f\"}, \"baxis\": {\"endlinecolor\": \"#2a3f5f\", \"gridcolor\": \"white\", \"linecolor\": \"white\", \"minorgridcolor\": \"white\", \"startlinecolor\": \"#2a3f5f\"}, \"type\": \"carpet\"}], \"choropleth\": [{\"colorbar\": {\"outlinewidth\": 0, \"ticks\": \"\"}, \"type\": \"choropleth\"}], \"contour\": [{\"colorbar\": {\"outlinewidth\": 0, \"ticks\": \"\"}, \"colorscale\": [[0.0, \"#0d0887\"], [0.1111111111111111, \"#46039f\"], [0.2222222222222222, \"#7201a8\"], [0.3333333333333333, \"#9c179e\"], [0.4444444444444444, \"#bd3786\"], [0.5555555555555556, \"#d8576b\"], [0.6666666666666666, \"#ed7953\"], [0.7777777777777778, \"#fb9f3a\"], [0.8888888888888888, \"#fdca26\"], [1.0, \"#f0f921\"]], \"type\": \"contour\"}], \"contourcarpet\": [{\"colorbar\": {\"outlinewidth\": 0, \"ticks\": \"\"}, \"type\": \"contourcarpet\"}], \"heatmap\": [{\"colorbar\": {\"outlinewidth\": 0, \"ticks\": \"\"}, \"colorscale\": [[0.0, \"#0d0887\"], [0.1111111111111111, \"#46039f\"], [0.2222222222222222, \"#7201a8\"], [0.3333333333333333, \"#9c179e\"], [0.4444444444444444, \"#bd3786\"], [0.5555555555555556, \"#d8576b\"], [0.6666666666666666, \"#ed7953\"], [0.7777777777777778, \"#fb9f3a\"], [0.8888888888888888, \"#fdca26\"], [1.0, \"#f0f921\"]], \"type\": \"heatmap\"}], \"heatmapgl\": [{\"colorbar\": {\"outlinewidth\": 0, \"ticks\": \"\"}, \"colorscale\": [[0.0, \"#0d0887\"], [0.1111111111111111, \"#46039f\"], [0.2222222222222222, \"#7201a8\"], [0.3333333333333333, \"#9c179e\"], [0.4444444444444444, \"#bd3786\"], [0.5555555555555556, \"#d8576b\"], [0.6666666666666666, \"#ed7953\"], [0.7777777777777778, \"#fb9f3a\"], [0.8888888888888888, \"#fdca26\"], [1.0, \"#f0f921\"]], \"type\": \"heatmapgl\"}], \"histogram\": [{\"marker\": {\"colorbar\": {\"outlinewidth\": 0, \"ticks\": \"\"}}, \"type\": \"histogram\"}], \"histogram2d\": [{\"colorbar\": {\"outlinewidth\": 0, \"ticks\": \"\"}, \"colorscale\": [[0.0, \"#0d0887\"], [0.1111111111111111, \"#46039f\"], [0.2222222222222222, \"#7201a8\"], [0.3333333333333333, \"#9c179e\"], [0.4444444444444444, \"#bd3786\"], [0.5555555555555556, \"#d8576b\"], [0.6666666666666666, \"#ed7953\"], [0.7777777777777778, \"#fb9f3a\"], [0.8888888888888888, \"#fdca26\"], [1.0, \"#f0f921\"]], \"type\": \"histogram2d\"}], \"histogram2dcontour\": [{\"colorbar\": {\"outlinewidth\": 0, \"ticks\": \"\"}, \"colorscale\": [[0.0, \"#0d0887\"], [0.1111111111111111, \"#46039f\"], [0.2222222222222222, \"#7201a8\"], [0.3333333333333333, \"#9c179e\"], [0.4444444444444444, \"#bd3786\"], [0.5555555555555556, \"#d8576b\"], [0.6666666666666666, \"#ed7953\"], [0.7777777777777778, \"#fb9f3a\"], [0.8888888888888888, \"#fdca26\"], [1.0, \"#f0f921\"]], \"type\": \"histogram2dcontour\"}], \"mesh3d\": [{\"colorbar\": {\"outlinewidth\": 0, \"ticks\": \"\"}, \"type\": \"mesh3d\"}], \"parcoords\": [{\"line\": {\"colorbar\": {\"outlinewidth\": 0, \"ticks\": \"\"}}, \"type\": \"parcoords\"}], \"pie\": [{\"automargin\": true, \"type\": \"pie\"}], \"scatter\": [{\"marker\": {\"colorbar\": {\"outlinewidth\": 0, \"ticks\": \"\"}}, \"type\": \"scatter\"}], \"scatter3d\": [{\"line\": {\"colorbar\": {\"outlinewidth\": 0, \"ticks\": \"\"}}, \"marker\": {\"colorbar\": {\"outlinewidth\": 0, \"ticks\": \"\"}}, \"type\": \"scatter3d\"}], \"scattercarpet\": [{\"marker\": {\"colorbar\": {\"outlinewidth\": 0, \"ticks\": \"\"}}, \"type\": \"scattercarpet\"}], \"scattergeo\": [{\"marker\": {\"colorbar\": {\"outlinewidth\": 0, \"ticks\": \"\"}}, \"type\": \"scattergeo\"}], \"scattergl\": [{\"marker\": {\"colorbar\": {\"outlinewidth\": 0, \"ticks\": \"\"}}, \"type\": \"scattergl\"}], \"scattermapbox\": [{\"marker\": {\"colorbar\": {\"outlinewidth\": 0, \"ticks\": \"\"}}, \"type\": \"scattermapbox\"}], \"scatterpolar\": [{\"marker\": {\"colorbar\": {\"outlinewidth\": 0, \"ticks\": \"\"}}, \"type\": \"scatterpolar\"}], \"scatterpolargl\": [{\"marker\": {\"colorbar\": {\"outlinewidth\": 0, \"ticks\": \"\"}}, \"type\": \"scatterpolargl\"}], \"scatterternary\": [{\"marker\": {\"colorbar\": {\"outlinewidth\": 0, \"ticks\": \"\"}}, \"type\": \"scatterternary\"}], \"surface\": [{\"colorbar\": {\"outlinewidth\": 0, \"ticks\": \"\"}, \"colorscale\": [[0.0, \"#0d0887\"], [0.1111111111111111, \"#46039f\"], [0.2222222222222222, \"#7201a8\"], [0.3333333333333333, \"#9c179e\"], [0.4444444444444444, \"#bd3786\"], [0.5555555555555556, \"#d8576b\"], [0.6666666666666666, \"#ed7953\"], [0.7777777777777778, \"#fb9f3a\"], [0.8888888888888888, \"#fdca26\"], [1.0, \"#f0f921\"]], \"type\": \"surface\"}], \"table\": [{\"cells\": {\"fill\": {\"color\": \"#EBF0F8\"}, \"line\": {\"color\": \"white\"}}, \"header\": {\"fill\": {\"color\": \"#C8D4E3\"}, \"line\": {\"color\": \"white\"}}, \"type\": \"table\"}]}, \"layout\": {\"annotationdefaults\": {\"arrowcolor\": \"#2a3f5f\", \"arrowhead\": 0, \"arrowwidth\": 1}, \"autotypenumbers\": \"strict\", \"coloraxis\": {\"colorbar\": {\"outlinewidth\": 0, \"ticks\": \"\"}}, \"colorscale\": {\"diverging\": [[0, \"#8e0152\"], [0.1, \"#c51b7d\"], [0.2, \"#de77ae\"], [0.3, \"#f1b6da\"], [0.4, \"#fde0ef\"], [0.5, \"#f7f7f7\"], [0.6, \"#e6f5d0\"], [0.7, \"#b8e186\"], [0.8, \"#7fbc41\"], [0.9, \"#4d9221\"], [1, \"#276419\"]], \"sequential\": [[0.0, \"#0d0887\"], [0.1111111111111111, \"#46039f\"], [0.2222222222222222, \"#7201a8\"], [0.3333333333333333, \"#9c179e\"], [0.4444444444444444, \"#bd3786\"], [0.5555555555555556, \"#d8576b\"], [0.6666666666666666, \"#ed7953\"], [0.7777777777777778, \"#fb9f3a\"], [0.8888888888888888, \"#fdca26\"], [1.0, \"#f0f921\"]], \"sequentialminus\": [[0.0, \"#0d0887\"], [0.1111111111111111, \"#46039f\"], [0.2222222222222222, \"#7201a8\"], [0.3333333333333333, \"#9c179e\"], [0.4444444444444444, \"#bd3786\"], [0.5555555555555556, \"#d8576b\"], [0.6666666666666666, \"#ed7953\"], [0.7777777777777778, \"#fb9f3a\"], [0.8888888888888888, \"#fdca26\"], [1.0, \"#f0f921\"]]}, \"colorway\": [\"#636efa\", \"#EF553B\", \"#00cc96\", \"#ab63fa\", \"#FFA15A\", \"#19d3f3\", \"#FF6692\", \"#B6E880\", \"#FF97FF\", \"#FECB52\"], \"font\": {\"color\": \"#2a3f5f\"}, \"geo\": {\"bgcolor\": \"white\", \"lakecolor\": \"white\", \"landcolor\": \"#E5ECF6\", \"showlakes\": true, \"showland\": true, \"subunitcolor\": \"white\"}, \"hoverlabel\": {\"align\": \"left\"}, \"hovermode\": \"closest\", \"mapbox\": {\"style\": \"light\"}, \"paper_bgcolor\": \"white\", \"plot_bgcolor\": \"#E5ECF6\", \"polar\": {\"angularaxis\": {\"gridcolor\": \"white\", \"linecolor\": \"white\", \"ticks\": \"\"}, \"bgcolor\": \"#E5ECF6\", \"radialaxis\": {\"gridcolor\": \"white\", \"linecolor\": \"white\", \"ticks\": \"\"}}, \"scene\": {\"xaxis\": {\"backgroundcolor\": \"#E5ECF6\", \"gridcolor\": \"white\", \"gridwidth\": 2, \"linecolor\": \"white\", \"showbackground\": true, \"ticks\": \"\", \"zerolinecolor\": \"white\"}, \"yaxis\": {\"backgroundcolor\": \"#E5ECF6\", \"gridcolor\": \"white\", \"gridwidth\": 2, \"linecolor\": \"white\", \"showbackground\": true, \"ticks\": \"\", \"zerolinecolor\": \"white\"}, \"zaxis\": {\"backgroundcolor\": \"#E5ECF6\", \"gridcolor\": \"white\", \"gridwidth\": 2, \"linecolor\": \"white\", \"showbackground\": true, \"ticks\": \"\", \"zerolinecolor\": \"white\"}}, \"shapedefaults\": {\"line\": {\"color\": \"#2a3f5f\"}}, \"ternary\": {\"aaxis\": {\"gridcolor\": \"white\", \"linecolor\": \"white\", \"ticks\": \"\"}, \"baxis\": {\"gridcolor\": \"white\", \"linecolor\": \"white\", \"ticks\": \"\"}, \"bgcolor\": \"#E5ECF6\", \"caxis\": {\"gridcolor\": \"white\", \"linecolor\": \"white\", \"ticks\": \"\"}}, \"title\": {\"x\": 0.05}, \"xaxis\": {\"automargin\": true, \"gridcolor\": \"white\", \"linecolor\": \"white\", \"ticks\": \"\", \"title\": {\"standoff\": 15}, \"zerolinecolor\": \"white\", \"zerolinewidth\": 2}, \"yaxis\": {\"automargin\": true, \"gridcolor\": \"white\", \"linecolor\": \"white\", \"ticks\": \"\", \"title\": {\"standoff\": 15}, \"zerolinecolor\": \"white\", \"zerolinewidth\": 2}}}, \"title\": {\"text\": \"N\\u00famero de tuits por hora\"}},                        {\"responsive\": true}                    ).then(function(){\n",
       "                            \n",
       "var gd = document.getElementById('92b3ef54-01cd-4c12-a7c0-781ef3151862');\n",
       "var x = new MutationObserver(function (mutations, observer) {{\n",
       "        var display = window.getComputedStyle(gd).display;\n",
       "        if (!display || display === 'none') {{\n",
       "            console.log([gd, 'removed!']);\n",
       "            Plotly.purge(gd);\n",
       "            observer.disconnect();\n",
       "        }}\n",
       "}});\n",
       "\n",
       "// Listen for the removal of the full notebook cells\n",
       "var notebookContainer = gd.closest('#notebook-container');\n",
       "if (notebookContainer) {{\n",
       "    x.observe(notebookContainer, {childList: true});\n",
       "}}\n",
       "\n",
       "// Listen for the clearing of the current output cell\n",
       "var outputEl = gd.closest('.output');\n",
       "if (outputEl) {{\n",
       "    x.observe(outputEl, {childList: true});\n",
       "}}\n",
       "\n",
       "                        })                };                });            </script>        </div>"
      ]
     },
     "metadata": {},
     "output_type": "display_data"
    }
   ],
   "source": [
    "trace = go.Scatter(x=temp.hora.values,\n",
    "                   y=temp.cnt.values,\n",
    "                   text=[f\"Fecha: {f}<br>Tuits: {c}\" for f,c in zip(temp.hora.values,temp.cnt.values)],\n",
    "                   hoverinfo='text',\n",
    "                   mode='lines+markers',\n",
    "                   name='Horas',\n",
    "                   line={'color': 'blue'})\n",
    "\n",
    "layout = go.Layout(title=\"Número de tuits por hora\")\n",
    "\n",
    "fig = go.Figure(data=[trace], layout=layout)\n",
    "iplot(fig)"
   ]
  },
  {
   "cell_type": "code",
   "execution_count": null,
   "metadata": {},
   "outputs": [],
   "source": []
  },
  {
   "cell_type": "code",
   "execution_count": null,
   "metadata": {},
   "outputs": [],
   "source": []
  }
 ],
 "metadata": {
  "kernelspec": {
   "display_name": "Python 3",
   "language": "python",
   "name": "python3"
  },
  "language_info": {
   "codemirror_mode": {
    "name": "ipython",
    "version": 3
   },
   "file_extension": ".py",
   "mimetype": "text/x-python",
   "name": "python",
   "nbconvert_exporter": "python",
   "pygments_lexer": "ipython3",
   "version": "3.8.5"
  }
 },
 "nbformat": 4,
 "nbformat_minor": 2
}
