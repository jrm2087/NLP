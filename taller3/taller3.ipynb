{
 "cells": [
  {
   "cell_type": "markdown",
   "metadata": {},
   "source": [
    "<img src='https://encrypted-tbn0.gstatic.com/images?q=tbn%3AANd9GcQ-VfNtOyJbsaxu43Kztf_cv1mgBG6ZIQZEVw&usqp=CAU'>\n",
    "\n",
    "# Procesamiento de Lenguage Natural\n",
    "\n",
    "## Taller #3: Web Scraping\n",
    "`Fecha de entrega: Marzo 10, 2021. (Antes del inicio de la próxima clase).`"
   ]
  },
  {
   "cell_type": "markdown",
   "metadata": {},
   "source": [
    "# Punto 1:\n",
    "\n",
    "- `[15 pts]` Hacer Web Scraping de 10 animales en Wikipedia (en búcle)\n",
    "- `[10 pts]` Obtener el **encabezado** de cada animal\n",
    "- `[15 pts]` Obtener todos los **textos** que están en las etiquetas de negrilla."
   ]
  },
  {
   "cell_type": "code",
   "execution_count": 186,
   "metadata": {},
   "outputs": [],
   "source": [
    "import bs4 as bs \n",
    "import urllib.request"
   ]
  },
  {
   "cell_type": "code",
   "execution_count": 187,
   "metadata": {},
   "outputs": [],
   "source": [
    "def source(link):\n",
    "    request = urllib.request.Request(link, headers={'User-Agent': 'Mozilla/5.0'})\n",
    "    webpage = urllib.request.urlopen(request)\n",
    "    source = webpage.read()\n",
    "    webpage.close()\n",
    "    return source"
   ]
  },
  {
   "cell_type": "code",
   "execution_count": 188,
   "metadata": {},
   "outputs": [],
   "source": [
    "links = ['https://es.wikipedia.org/wiki/Felis_silvestris_catus',\n",
    "          'https://es.wikipedia.org/wiki/Equus_ferus_caballus',\n",
    "          'https://es.wikipedia.org/wiki/Canis_familiaris',\n",
    "          'https://es.wikipedia.org/wiki/Psittacoidea',\n",
    "          'https://es.wikipedia.org/wiki/Vultur_gryphus',\n",
    "          'https://es.wikipedia.org/wiki/Elephantidae',\n",
    "          'https://es.wikipedia.org/wiki/Panthera_leo',\n",
    "          'https://es.wikipedia.org/wiki/Oryctolagus_cuniculus',\n",
    "          'https://es.wikipedia.org/wiki/Tremarctos_ornatus',\n",
    "          'https://es.wikipedia.org/wiki/Spheniscidae']"
   ]
  },
  {
   "cell_type": "code",
   "execution_count": 189,
   "metadata": {},
   "outputs": [
    {
     "name": "stdout",
     "output_type": "stream",
     "text": [
      "Encabezado 1: Felis silvestris catus\n",
      "Encabezado 2: Equus ferus caballus\n",
      "Encabezado 3: Canis familiaris\n",
      "Encabezado 4: Psittacoidea\n",
      "Encabezado 5: Vultur gryphus\n",
      "Encabezado 6: Elephantidae\n",
      "Encabezado 7: Panthera leo\n",
      "Encabezado 8: Oryctolagus cuniculus\n",
      "Encabezado 9: Tremarctos ornatus\n",
      "Encabezado 10: Spheniscidae\n"
     ]
    }
   ],
   "source": [
    "sources = []\n",
    "for i, e in enumerate(links):\n",
    "    sources.append(source(e))\n",
    "    header = bs.BeautifulSoup(source(e), 'html.parser').find('h1').text\n",
    "    print(f'Encabezado {i + 1}: {header}')"
   ]
  },
  {
   "cell_type": "code",
   "execution_count": 190,
   "metadata": {},
   "outputs": [
    {
     "name": "stdout",
     "output_type": "stream",
     "text": [
      "gato doméstico\n",
      "Felis silvestris catus\n",
      "gato\n",
      "minino\n",
      "michino\n",
      "michi\n",
      "micho\n",
      "mizo\n",
      "miz\n",
      "morroño\n",
      "morrongo\n",
      "caballo\n",
      "Equus ferus caballus\n",
      "perro\n",
      "Canis familiaris\n",
      "Canis lupus familiaris\n",
      "perro doméstico\n",
      "can\n",
      "chucho\n",
      "tuso\n",
      "choco\n",
      "Psittacoidea\n",
      "psitacoideos\n",
      "loros típicos\n",
      "cóndor andino\n",
      "cóndor de los Cerros\n",
      "cóndor de los Andes\n",
      "cóndor\n",
      "Vultur gryphus\n",
      "elefantes\n",
      "elefántidos\n",
      "Elephantidae\n",
      "león\n",
      "Panthera leo\n",
      "conejo común\n",
      "conejo europeo \n",
      "Oryctolagus cuniculus\n",
      "oso de anteojos\n",
      "Tremarctos ornatus\n",
      "oso frontino\n",
      "oso andino\n",
      "oso sudamericano\n",
      "ucumari\n",
      "jukumari\n",
      "pingüinos\n",
      "Spheniscidae\n",
      "Sphenisciformes\n"
     ]
    }
   ],
   "source": [
    "texts = []\n",
    "for s in sources:\n",
    "    value = bs.BeautifulSoup(s, 'html.parser').find('p').find_all('b')\n",
    "    if len(value) == 0:\n",
    "        value = bs.BeautifulSoup(s, 'html.parser').find(class_=\"mw-parser-output\").find_all('p')[1].find_all('b')\n",
    "    for v in value:\n",
    "        texts.append(v.text)\n",
    "\n",
    "for t in texts:\n",
    "    print(t)"
   ]
  },
  {
   "cell_type": "markdown",
   "metadata": {},
   "source": [
    "# Punto 2:\n",
    "- `[10 pts]` Usando regex, reemplazar todas las tíldes del punto anterior por un asterisco (¡Ojo, los espacios se quedan!)\n"
   ]
  },
  {
   "cell_type": "code",
   "execution_count": 191,
   "metadata": {},
   "outputs": [],
   "source": [
    "import re"
   ]
  },
  {
   "cell_type": "code",
   "execution_count": 192,
   "metadata": {},
   "outputs": [
    {
     "name": "stdout",
     "output_type": "stream",
     "text": [
      "gato dom*stico\n",
      "Felis silvestris catus\n",
      "gato\n",
      "minino\n",
      "michino\n",
      "michi\n",
      "micho\n",
      "mizo\n",
      "miz\n",
      "morro*o\n",
      "morrongo\n",
      "caballo\n",
      "Equus ferus caballus\n",
      "perro\n",
      "Canis familiaris\n",
      "Canis lupus familiaris\n",
      "perro dom*stico\n",
      "can\n",
      "chucho\n",
      "tuso\n",
      "choco\n",
      "Psittacoidea\n",
      "psitacoideos\n",
      "loros t*picos\n",
      "c*ndor andino\n",
      "c*ndor de los Cerros\n",
      "c*ndor de los Andes\n",
      "c*ndor\n",
      "Vultur gryphus\n",
      "elefantes\n",
      "elef*ntidos\n",
      "Elephantidae\n",
      "le*n\n",
      "Panthera leo\n",
      "conejo com*n\n",
      "conejo europeo \n",
      "Oryctolagus cuniculus\n",
      "oso de anteojos\n",
      "Tremarctos ornatus\n",
      "oso frontino\n",
      "oso andino\n",
      "oso sudamericano\n",
      "ucumari\n",
      "jukumari\n",
      "ping*inos\n",
      "Spheniscidae\n",
      "Sphenisciformes\n"
     ]
    }
   ],
   "source": [
    "for t in texts:\n",
    "    print(re.sub('[^a-zA-Z \\n]', '*', t))"
   ]
  },
  {
   "cell_type": "code",
   "execution_count": null,
   "metadata": {},
   "outputs": [],
   "source": []
  }
 ],
 "metadata": {
  "kernelspec": {
   "display_name": "Python 3",
   "language": "python",
   "name": "python3"
  },
  "language_info": {
   "codemirror_mode": {
    "name": "ipython",
    "version": 3
   },
   "file_extension": ".py",
   "mimetype": "text/x-python",
   "name": "python",
   "nbconvert_exporter": "python",
   "pygments_lexer": "ipython3",
   "version": "3.8.5"
  }
 },
 "nbformat": 4,
 "nbformat_minor": 2
}
